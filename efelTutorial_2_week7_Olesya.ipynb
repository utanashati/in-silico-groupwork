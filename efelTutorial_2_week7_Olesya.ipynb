{
 "cells": [
  {
   "cell_type": "markdown",
   "metadata": {},
   "source": [
    "# Extraction of electrical features (eFeatures) from experimental data\n",
    "\n",
    "____\n",
    "\n",
    "## Overview (from last week)\n",
    "\n",
    "____\n",
    "\n",
    "In this tutorial we will see how to extract electrical features (eFeatures), such as spike amplitude, firing frequency, etc... from experimental traces. The eFeatures describe the electrical behavior our neuron model should reproduce.\n",
    "\n",
    "The steps we will follow are:\n",
    "\n",
    "* Select and visualize the data.\n",
    "\n",
    "* Electrophysiological features will be extracted from the voltage traces, thanks to the ** Electrophys Feature Extraction Library ** [eFEL](https://github.com/BlueBrain/eFEL).\n",
    "\n",
    "* We will use experimental current traces to create protocols that we will use to simulate our neuron model.\n",
    "\n",
    "* In future weeks we will use the **Blue Brain Python Optimisation Library** [BluePyOpt](https://github.com/BlueBrain/BluePyOpt) to create a model template for the [NEURON simulator](https://www.neuron.yale.edu/neuron/). There you'll see how the morphology you've chosen, the eFeatures and the stimuli will be combined in setting up the optimization of your neuron model.\n",
    "\n",
    "___\n",
    "### You will implement part of the code in order to perform the steps above (follow the **TODOs** in this notebook).\n",
    "___"
   ]
  },
  {
   "cell_type": "code",
   "execution_count": null,
   "metadata": {},
   "outputs": [],
   "source": [
    " # To avoid problems, install the pacakges you will need.\n",
    "! pip install --upgrade pip\n",
    "! pip install json2html\n",
    "# First execute this line to upgrade pip\n",
    "! pip install -q --upgrade \"hbp-service-client==1.0.0\""
   ]
  },
  {
   "cell_type": "markdown",
   "metadata": {},
   "source": [
    "### RESTART YOUR KERNEL NOW!"
   ]
  },
  {
   "cell_type": "markdown",
   "metadata": {},
   "source": [
    "Import some useful Python modules."
   ]
  },
  {
   "cell_type": "code",
   "execution_count": 1,
   "metadata": {},
   "outputs": [],
   "source": [
    "%load_ext autoreload\n",
    "%autoreload\n",
    "\n",
    "import numpy as np\n",
    "import IPython\n",
    "import json, os\n",
    "\n",
    "import matplotlib.pyplot as plt\n",
    "%matplotlib inline\n",
    "\n",
    "import collections\n",
    "\n",
    "from json2html import *"
   ]
  },
  {
   "cell_type": "markdown",
   "metadata": {},
   "source": [
    "# 1. Electrophysiology data\n",
    "\n",
    "Go to the __MOODLE__ and download the folder called __Layer5TuftedPyramidal.tar__ files. Then, save these files in the __Storage__ of your collab. (Please, unzip the folder before saving it in the Storage). There are a lot of files, so is better to create a folder in the Storage and save the files in the folder. I called the folder __\"dataLayer5TuftedPyramidal\"__\n",
    "\n",
    "In this section we will process the electrophysiological data recorded with patch clamp (current clamp) experiments.\n",
    "\n",
    "We will store the data in a Python dictionary."
   ]
  },
  {
   "cell_type": "code",
   "execution_count": null,
   "metadata": {
    "scrolled": true
   },
   "outputs": [],
   "source": [
    "# Download the files from the Storage to your collab virtual machine\n",
    "# Save the file's names in a list\n",
    "# Be patient it could take some minutes...\n",
    "\n",
    "# These lines allow us to take and work with the desired files in the storage.\n",
    "clients = get_hbp_service_client()\n",
    "collab_path = get_collab_storage_path()\n",
    "data_dir = collab_path + '/dataLayer5TuftedPyramidal/'\n",
    "\n",
    "#print files_list\n",
    "project_uuid = clients.storage.api_client.get_entity_by_query(path=data_dir)['uuid']\n",
    "l = clients.storage.api_client.list_folder_content(project_uuid, page_size=300)\n",
    "\n",
    "filenames = []\n",
    "for e in l['results']:\n",
    "    filenames.append(e['name'])\n",
    "\n",
    "for filename in filenames:\n",
    "    print filename\n",
    "    path_to_file = '/tmp/downloaded_'+filename\n",
    "    file_from_path = data_dir+filename\n",
    "    clients.storage.download_file(str(data_dir+filename), str(path_to_file))"
   ]
  },
  {
   "cell_type": "code",
   "execution_count": 2,
   "metadata": {},
   "outputs": [],
   "source": [
    "data_dir = 'data/week7/dataLayer5TuftedPyramidal/'"
   ]
  },
  {
   "cell_type": "code",
   "execution_count": 6,
   "metadata": {},
   "outputs": [],
   "source": [
    "filenames = os.listdir(data_dir)\n",
    "\n",
    "trace_nums = []\n",
    "for filename in filenames:\n",
    "    trace_nums.append(int(filename[-8:-4]))"
   ]
  },
  {
   "cell_type": "code",
   "execution_count": 7,
   "metadata": {},
   "outputs": [],
   "source": [
    "traces_unique = np.unique(trace_nums)"
   ]
  },
  {
   "cell_type": "code",
   "execution_count": 12,
   "metadata": {},
   "outputs": [
    {
     "name": "stdout",
     "output_type": "stream",
     "text": [
      "[3016 3016 1139 4023 1139 4023 4109 3100 4109 3100 4108 3101 4108 3101\n",
      " 4031 4031 1138 4022 1138 4022 3017 3017 4020 4020 4033 4033 3103 3103\n",
      " 3102 3102 4032 4032 4021 4021 4025 4025 4036 4036 3106 3106 3107 3107\n",
      " 4030 4024 4030 4024 4026 4026 3028 4035 4035 3028 3105 3105 3104 3110\n",
      " 3104 3110 3029 4034 4034 3029 4027 4027 2032 2032 1063 1063 2021 2021\n",
      " 1058 1058 2020 2020 1062 1062 2033 2033 2031 2031 2108 2108 1060 1060\n",
      " 2022 2022 2023 2023 1061 1061 2109 2109 2030 2030 2034 2034 1059 1059\n",
      " 2027 2027 2026 2026 1064 1064 2035 2035 2024 2024 1049 1049 1048 1048\n",
      " 2019 2019 2025 2025 2028 2028 1051 1051 1050 1050 2029 2029 2103 2103\n",
      " 1052 1052 1053 1053 1141 1141 2104 2110 2104 2110 1057 1057 1056 1056\n",
      " 2105 2111 2105 2111 1140 1140 1142 1142 2113 2107 2113 2107 1054 1054\n",
      " 1055 1055 2112 2106 2112 2106 3023 3023 3030 3030 3109 4114 4114 3109\n",
      " 3108 3108 3031 3031 3022 3022 1133 3020 4029 1133 3020 4029 3027 3027\n",
      " 3032 3032 3021 1132 4028 3021 1132 4028 3019 3019 1136 3025 1136 3025\n",
      " 4112 4106 4112 4106 4113 4107 4113 4107 3024 1137 3024 1137 3018 3018\n",
      " 1135 3026 1135 3026 4105 4111 4105 4111 4104 4110 4104 4110 1134 1134]\n",
      "\n",
      "[1048 1049 1050 1051 1052 1053 1054 1055 1056 1057 1058 1059 1060 1061\n",
      " 1062 1063 1064 1132 1133 1134 1135 1136 1137 1138 1139 1140 1141 1142\n",
      " 2019 2020 2021 2022 2023 2024 2025 2026 2027 2028 2029 2030 2031 2032\n",
      " 2033 2034 2035 2103 2104 2105 2106 2107 2108 2109 2110 2111 2112 2113\n",
      " 3016 3017 3018 3019 3020 3021 3022 3023 3024 3025 3026 3027 3028 3029\n",
      " 3030 3031 3032 3100 3101 3102 3103 3104 3105 3106 3107 3108 3109 3110\n",
      " 4020 4021 4022 4023 4024 4025 4026 4027 4028 4029 4030 4031 4032 4033\n",
      " 4034 4035 4036 4104 4105 4106 4107 4108 4109 4110 4111 4112 4113 4114]\n"
     ]
    }
   ],
   "source": [
    "print('{}\\n\\n{}'.format(np.array(trace_nums), traces_unique))"
   ]
  },
  {
   "cell_type": "code",
   "execution_count": 13,
   "metadata": {},
   "outputs": [],
   "source": [
    "traces = {}\n",
    "for tracenum in traces_unique:\n",
    "    traces[tracenum] = []\n",
    "    for filename in filenames:\n",
    "        if str(tracenum) in filename:\n",
    "            traces[tracenum].append(filename)"
   ]
  },
  {
   "cell_type": "code",
   "execution_count": 14,
   "metadata": {},
   "outputs": [
    {
     "name": "stdout",
     "output_type": "stream",
     "text": [
      "{4104: ['exp_IDRest_ch20_4104.dat', 'exp_IDRest_ch21_4104.dat'], 4105: ['exp_IDRest_ch21_4105.dat', 'exp_IDRest_ch20_4105.dat'], 4106: ['exp_IDRest_ch20_4106.dat', 'exp_IDRest_ch21_4106.dat'], 4107: ['exp_IDRest_ch21_4107.dat', 'exp_IDRest_ch20_4107.dat'], 4108: ['exp_IDRest_ch21_4108.dat', 'exp_IDRest_ch20_4108.dat'], 4109: ['exp_IDRest_ch20_4109.dat', 'exp_IDRest_ch21_4109.dat'], 4110: ['exp_IDRest_ch21_4110.dat', 'exp_IDRest_ch20_4110.dat'], 4111: ['exp_IDRest_ch20_4111.dat', 'exp_IDRest_ch21_4111.dat'], 4112: ['exp_IDRest_ch21_4112.dat', 'exp_IDRest_ch20_4112.dat'], 4113: ['exp_IDRest_ch20_4113.dat', 'exp_IDRest_ch21_4113.dat'], 4114: ['exp_IDRest_ch20_4114.dat', 'exp_IDRest_ch21_4114.dat'], 1048: ['exp_IV_ch20_1048.dat', 'exp_IV_ch21_1048.dat'], 1049: ['exp_IV_ch21_1049.dat', 'exp_IV_ch20_1049.dat'], 1050: ['exp_IV_ch20_1050.dat', 'exp_IV_ch21_1050.dat'], 1051: ['exp_IV_ch21_1051.dat', 'exp_IV_ch20_1051.dat'], 1052: ['exp_IV_ch20_1052.dat', 'exp_IV_ch21_1052.dat'], 1053: ['exp_IV_ch21_1053.dat', 'exp_IV_ch20_1053.dat'], 1054: ['exp_IV_ch21_1054.dat', 'exp_IV_ch20_1054.dat'], 3103: ['exp_IDRest_ch21_3103.dat', 'exp_IDRest_ch20_3103.dat'], 1056: ['exp_IV_ch21_1056.dat', 'exp_IV_ch20_1056.dat'], 1057: ['exp_IV_ch20_1057.dat', 'exp_IV_ch21_1057.dat'], 1058: ['exp_IV_ch20_1058.dat', 'exp_IV_ch21_1058.dat'], 3107: ['exp_IDRest_ch20_3107.dat', 'exp_IDRest_ch21_3107.dat'], 1060: ['exp_APWaveform_ch21_1060.dat', 'exp_APWaveform_ch20_1060.dat'], 3109: ['exp_IDRest_ch21_3109.dat', 'exp_IDRest_ch20_3109.dat'], 1062: ['exp_APWaveform_ch21_1062.dat', 'exp_APWaveform_ch20_1062.dat'], 1063: ['exp_APWaveform_ch20_1063.dat', 'exp_APWaveform_ch21_1063.dat'], 1064: ['exp_APWaveform_ch20_1064.dat', 'exp_APWaveform_ch21_1064.dat'], 2103: ['exp_IDRest_ch20_2103.dat', 'exp_IDRest_ch21_2103.dat'], 2104: ['exp_IDRest_ch20_2104.dat', 'exp_IDRest_ch21_2104.dat'], 2105: ['exp_IDRest_ch21_2105.dat', 'exp_IDRest_ch20_2105.dat'], 2106: ['exp_IDRest_ch20_2106.dat', 'exp_IDRest_ch21_2106.dat'], 2107: ['exp_IDRest_ch21_2107.dat', 'exp_IDRest_ch20_2107.dat'], 2108: ['exp_IDRest_ch21_2108.dat', 'exp_IDRest_ch20_2108.dat'], 2109: ['exp_IDRest_ch20_2109.dat', 'exp_IDRest_ch21_2109.dat'], 2110: ['exp_IDRest_ch21_2110.dat', 'exp_IDRest_ch20_2110.dat'], 2111: ['exp_IDRest_ch20_2111.dat', 'exp_IDRest_ch21_2111.dat'], 2112: ['exp_IDRest_ch21_2112.dat', 'exp_IDRest_ch20_2112.dat'], 2113: ['exp_IDRest_ch20_2113.dat', 'exp_IDRest_ch21_2113.dat'], 1132: ['exp_IDRest_ch21_1132.dat', 'exp_IDRest_ch20_1132.dat'], 1133: ['exp_IDRest_ch20_1133.dat', 'exp_IDRest_ch21_1133.dat'], 1134: ['exp_IDRest_ch20_1134.dat', 'exp_IDRest_ch21_1134.dat'], 1135: ['exp_IDRest_ch21_1135.dat', 'exp_IDRest_ch20_1135.dat'], 1136: ['exp_IDRest_ch20_1136.dat', 'exp_IDRest_ch21_1136.dat'], 1137: ['exp_IDRest_ch21_1137.dat', 'exp_IDRest_ch20_1137.dat'], 1138: ['exp_IDRest_ch21_1138.dat', 'exp_IDRest_ch20_1138.dat'], 1139: ['exp_IDRest_ch20_1139.dat', 'exp_IDRest_ch21_1139.dat'], 1140: ['exp_IDRest_ch20_1140.dat', 'exp_IDRest_ch21_1140.dat'], 1141: ['exp_IDRest_ch21_1141.dat', 'exp_IDRest_ch20_1141.dat'], 1142: ['exp_IDRest_ch20_1142.dat', 'exp_IDRest_ch21_1142.dat'], 3100: ['exp_IDRest_ch20_3100.dat', 'exp_IDRest_ch21_3100.dat'], 3101: ['exp_IDRest_ch21_3101.dat', 'exp_IDRest_ch20_3101.dat'], 3102: ['exp_IDRest_ch20_3102.dat', 'exp_IDRest_ch21_3102.dat'], 1055: ['exp_IV_ch20_1055.dat', 'exp_IV_ch21_1055.dat'], 3104: ['exp_IDRest_ch21_3104.dat', 'exp_IDRest_ch20_3104.dat'], 3105: ['exp_IDRest_ch20_3105.dat', 'exp_IDRest_ch21_3105.dat'], 3106: ['exp_IDRest_ch21_3106.dat', 'exp_IDRest_ch20_3106.dat'], 1059: ['exp_APWaveform_ch21_1059.dat', 'exp_APWaveform_ch20_1059.dat'], 3108: ['exp_IDRest_ch20_3108.dat', 'exp_IDRest_ch21_3108.dat'], 1061: ['exp_APWaveform_ch20_1061.dat', 'exp_APWaveform_ch21_1061.dat'], 3110: ['exp_IDRest_ch20_3110.dat', 'exp_IDRest_ch21_3110.dat'], 4020: ['exp_IV_ch20_4020.dat', 'exp_IV_ch21_4020.dat'], 4021: ['exp_IV_ch21_4021.dat', 'exp_IV_ch20_4021.dat'], 4022: ['exp_IV_ch20_4022.dat', 'exp_IV_ch21_4022.dat'], 4023: ['exp_IV_ch21_4023.dat', 'exp_IV_ch20_4023.dat'], 4024: ['exp_IV_ch21_4024.dat', 'exp_IV_ch20_4024.dat'], 4025: ['exp_IV_ch20_4025.dat', 'exp_IV_ch21_4025.dat'], 4026: ['exp_IV_ch21_4026.dat', 'exp_IV_ch20_4026.dat'], 4027: ['exp_IV_ch20_4027.dat', 'exp_IV_ch21_4027.dat'], 4028: ['exp_IV_ch20_4028.dat', 'exp_IV_ch21_4028.dat'], 4029: ['exp_IV_ch21_4029.dat', 'exp_IV_ch20_4029.dat'], 4030: ['exp_IV_ch20_4030.dat', 'exp_IV_ch21_4030.dat'], 4031: ['exp_APWaveform_ch21_4031.dat', 'exp_APWaveform_ch20_4031.dat'], 4032: ['exp_APWaveform_ch20_4032.dat', 'exp_APWaveform_ch21_4032.dat'], 4033: ['exp_APWaveform_ch21_4033.dat', 'exp_APWaveform_ch20_4033.dat'], 4034: ['exp_APWaveform_ch21_4034.dat', 'exp_APWaveform_ch20_4034.dat'], 4035: ['exp_APWaveform_ch20_4035.dat', 'exp_APWaveform_ch21_4035.dat'], 4036: ['exp_APWaveform_ch21_4036.dat', 'exp_APWaveform_ch20_4036.dat'], 3016: ['exp_IV_ch21_3016.dat', 'exp_IV_ch20_3016.dat'], 3017: ['exp_IV_ch20_3017.dat', 'exp_IV_ch21_3017.dat'], 3018: ['exp_IV_ch20_3018.dat', 'exp_IV_ch21_3018.dat'], 3019: ['exp_IV_ch21_3019.dat', 'exp_IV_ch20_3019.dat'], 3020: ['exp_IV_ch21_3020.dat', 'exp_IV_ch20_3020.dat'], 3021: ['exp_IV_ch20_3021.dat', 'exp_IV_ch21_3021.dat'], 3022: ['exp_IV_ch21_3022.dat', 'exp_IV_ch20_3022.dat'], 3023: ['exp_IV_ch20_3023.dat', 'exp_IV_ch21_3023.dat'], 3024: ['exp_IV_ch20_3024.dat', 'exp_IV_ch21_3024.dat'], 3025: ['exp_IV_ch21_3025.dat', 'exp_IV_ch20_3025.dat'], 3026: ['exp_IV_ch20_3026.dat', 'exp_IV_ch21_3026.dat'], 3027: ['exp_APWaveform_ch21_3027.dat', 'exp_APWaveform_ch20_3027.dat'], 3028: ['exp_APWaveform_ch21_3028.dat', 'exp_APWaveform_ch20_3028.dat'], 3029: ['exp_APWaveform_ch20_3029.dat', 'exp_APWaveform_ch21_3029.dat'], 3030: ['exp_APWaveform_ch21_3030.dat', 'exp_APWaveform_ch20_3030.dat'], 3031: ['exp_APWaveform_ch20_3031.dat', 'exp_APWaveform_ch21_3031.dat'], 3032: ['exp_APWaveform_ch21_3032.dat', 'exp_APWaveform_ch20_3032.dat'], 2019: ['exp_IV_ch20_2019.dat', 'exp_IV_ch21_2019.dat'], 2020: ['exp_IV_ch20_2020.dat', 'exp_IV_ch21_2020.dat'], 2021: ['exp_IV_ch21_2021.dat', 'exp_IV_ch20_2021.dat'], 2022: ['exp_IV_ch20_2022.dat', 'exp_IV_ch21_2022.dat'], 2023: ['exp_IV_ch21_2023.dat', 'exp_IV_ch20_2023.dat'], 2024: ['exp_IV_ch21_2024.dat', 'exp_IV_ch20_2024.dat'], 2025: ['exp_IV_ch20_2025.dat', 'exp_IV_ch21_2025.dat'], 2026: ['exp_IV_ch21_2026.dat', 'exp_IV_ch20_2026.dat'], 2027: ['exp_IV_ch20_2027.dat', 'exp_IV_ch21_2027.dat'], 2028: ['exp_IV_ch20_2028.dat', 'exp_IV_ch21_2028.dat'], 2029: ['exp_IV_ch21_2029.dat', 'exp_IV_ch20_2029.dat'], 2030: ['exp_APWaveform_ch20_2030.dat', 'exp_APWaveform_ch21_2030.dat'], 2031: ['exp_APWaveform_ch21_2031.dat', 'exp_APWaveform_ch20_2031.dat'], 2032: ['exp_APWaveform_ch20_2032.dat', 'exp_APWaveform_ch21_2032.dat'], 2033: ['exp_APWaveform_ch21_2033.dat', 'exp_APWaveform_ch20_2033.dat'], 2034: ['exp_APWaveform_ch21_2034.dat', 'exp_APWaveform_ch20_2034.dat'], 2035: ['exp_APWaveform_ch20_2035.dat', 'exp_APWaveform_ch21_2035.dat']}\n"
     ]
    }
   ],
   "source": [
    "print(traces)"
   ]
  },
  {
   "cell_type": "code",
   "execution_count": 67,
   "metadata": {},
   "outputs": [],
   "source": [
    "valid_trace_nums = {}\n",
    "for key in traces.keys():\n",
    "    stim_features = []\n",
    "    stims = ['APWaveform', 'IDRest', 'IV']\n",
    "    for filename in traces[key]:\n",
    "        for ind, stim in enumerate(stims):\n",
    "            if stim in filename:\n",
    "                stim_features.append(stim)\n",
    "                del stims[ind]\n",
    "                break\n",
    "    valid_trace_nums[key] = stim_features"
   ]
  },
  {
   "cell_type": "code",
   "execution_count": 68,
   "metadata": {},
   "outputs": [
    {
     "name": "stdout",
     "output_type": "stream",
     "text": [
      "{4104: ['IDRest'], 4105: ['IDRest'], 4106: ['IDRest'], 4107: ['IDRest'], 4108: ['IDRest'], 4109: ['IDRest'], 4110: ['IDRest'], 4111: ['IDRest'], 4112: ['IDRest'], 4113: ['IDRest'], 4114: ['IDRest'], 1048: ['IV'], 1049: ['IV'], 1050: ['IV'], 1051: ['IV'], 1052: ['IV'], 1053: ['IV'], 1054: ['IV'], 3103: ['IDRest'], 1056: ['IV'], 1057: ['IV'], 1058: ['IV'], 3107: ['IDRest'], 1060: ['APWaveform'], 3109: ['IDRest'], 1062: ['APWaveform'], 1063: ['APWaveform'], 1064: ['APWaveform'], 2103: ['IDRest'], 2104: ['IDRest'], 2105: ['IDRest'], 2106: ['IDRest'], 2107: ['IDRest'], 2108: ['IDRest'], 2109: ['IDRest'], 2110: ['IDRest'], 2111: ['IDRest'], 2112: ['IDRest'], 2113: ['IDRest'], 1132: ['IDRest'], 1133: ['IDRest'], 1134: ['IDRest'], 1135: ['IDRest'], 1136: ['IDRest'], 1137: ['IDRest'], 1138: ['IDRest'], 1139: ['IDRest'], 1140: ['IDRest'], 1141: ['IDRest'], 1142: ['IDRest'], 3100: ['IDRest'], 3101: ['IDRest'], 3102: ['IDRest'], 1055: ['IV'], 3104: ['IDRest'], 3105: ['IDRest'], 3106: ['IDRest'], 1059: ['APWaveform'], 3108: ['IDRest'], 1061: ['APWaveform'], 3110: ['IDRest'], 4020: ['IV'], 4021: ['IV'], 4022: ['IV'], 4023: ['IV'], 4024: ['IV'], 4025: ['IV'], 4026: ['IV'], 4027: ['IV'], 4028: ['IV'], 4029: ['IV'], 4030: ['IV'], 4031: ['APWaveform'], 4032: ['APWaveform'], 4033: ['APWaveform'], 4034: ['APWaveform'], 4035: ['APWaveform'], 4036: ['APWaveform'], 3016: ['IV'], 3017: ['IV'], 3018: ['IV'], 3019: ['IV'], 3020: ['IV'], 3021: ['IV'], 3022: ['IV'], 3023: ['IV'], 3024: ['IV'], 3025: ['IV'], 3026: ['IV'], 3027: ['APWaveform'], 3028: ['APWaveform'], 3029: ['APWaveform'], 3030: ['APWaveform'], 3031: ['APWaveform'], 3032: ['APWaveform'], 2019: ['IV'], 2020: ['IV'], 2021: ['IV'], 2022: ['IV'], 2023: ['IV'], 2024: ['IV'], 2025: ['IV'], 2026: ['IV'], 2027: ['IV'], 2028: ['IV'], 2029: ['IV'], 2030: ['APWaveform'], 2031: ['APWaveform'], 2032: ['APWaveform'], 2033: ['APWaveform'], 2034: ['APWaveform'], 2035: ['APWaveform']}\n"
     ]
    }
   ],
   "source": [
    "print(valid_trace_nums)"
   ]
  },
  {
   "cell_type": "code",
   "execution_count": 74,
   "metadata": {},
   "outputs": [],
   "source": [
    "cell_dict_1000 = {1: [], 2: [], 3: [], 4: []}\n",
    "cells_1000 = [1, 2, 3, 4]\n",
    "for key in valid_trace_nums.keys():\n",
    "    for cell in cells:\n",
    "        if key // 1000 == cell:\n",
    "            cell_dict_1000[cell] = cell_dict_1000[cell] + valid_trace_nums[key]"
   ]
  },
  {
   "cell_type": "code",
   "execution_count": 76,
   "metadata": {},
   "outputs": [
    {
     "name": "stdout",
     "output_type": "stream",
     "text": [
      "{1: ['IV', 'IV', 'IV', 'IV', 'IV', 'IV', 'IV', 'IV', 'IV', 'IV', 'APWaveform', 'APWaveform', 'APWaveform', 'APWaveform', 'IDRest', 'IDRest', 'IDRest', 'IDRest', 'IDRest', 'IDRest', 'IDRest', 'IDRest', 'IDRest', 'IDRest', 'IDRest', 'IV', 'APWaveform', 'APWaveform'], 2: ['IDRest', 'IDRest', 'IDRest', 'IDRest', 'IDRest', 'IDRest', 'IDRest', 'IDRest', 'IDRest', 'IDRest', 'IDRest', 'IV', 'IV', 'IV', 'IV', 'IV', 'IV', 'IV', 'IV', 'IV', 'IV', 'IV', 'APWaveform', 'APWaveform', 'APWaveform', 'APWaveform', 'APWaveform', 'APWaveform'], 3: ['IDRest', 'IDRest', 'IDRest', 'IDRest', 'IDRest', 'IDRest', 'IDRest', 'IDRest', 'IDRest', 'IDRest', 'IDRest', 'IV', 'IV', 'IV', 'IV', 'IV', 'IV', 'IV', 'IV', 'IV', 'IV', 'IV', 'APWaveform', 'APWaveform', 'APWaveform', 'APWaveform', 'APWaveform', 'APWaveform'], 4: ['IDRest', 'IDRest', 'IDRest', 'IDRest', 'IDRest', 'IDRest', 'IDRest', 'IDRest', 'IDRest', 'IDRest', 'IDRest', 'IV', 'IV', 'IV', 'IV', 'IV', 'IV', 'IV', 'IV', 'IV', 'IV', 'IV', 'APWaveform', 'APWaveform', 'APWaveform', 'APWaveform', 'APWaveform', 'APWaveform']}\n"
     ]
    }
   ],
   "source": [
    "print(cell_dict_1000)"
   ]
  },
  {
   "cell_type": "code",
   "execution_count": 81,
   "metadata": {},
   "outputs": [],
   "source": [
    "cell_dict_100 = {10: [], 11: [], 20: [], 21: [], 30: [], 31: [], 40: [], 41: []}\n",
    "cells_100 = [10, 11, 20, 21, 30, 31, 40, 41]\n",
    "for key in valid_trace_nums.keys():\n",
    "    for cell in cells_100:\n",
    "        if key // 100 == cell:\n",
    "            cell_dict_100[cell] = cell_dict_100[cell] + valid_trace_nums[key]"
   ]
  },
  {
   "cell_type": "code",
   "execution_count": 82,
   "metadata": {},
   "outputs": [
    {
     "name": "stdout",
     "output_type": "stream",
     "text": [
      "{20: ['IV', 'IV', 'IV', 'IV', 'IV', 'IV', 'IV', 'IV', 'IV', 'IV', 'IV', 'APWaveform', 'APWaveform', 'APWaveform', 'APWaveform', 'APWaveform', 'APWaveform'], 21: ['IDRest', 'IDRest', 'IDRest', 'IDRest', 'IDRest', 'IDRest', 'IDRest', 'IDRest', 'IDRest', 'IDRest', 'IDRest'], 40: ['IV', 'IV', 'IV', 'IV', 'IV', 'IV', 'IV', 'IV', 'IV', 'IV', 'IV', 'APWaveform', 'APWaveform', 'APWaveform', 'APWaveform', 'APWaveform', 'APWaveform'], 41: ['IDRest', 'IDRest', 'IDRest', 'IDRest', 'IDRest', 'IDRest', 'IDRest', 'IDRest', 'IDRest', 'IDRest', 'IDRest'], 10: ['IV', 'IV', 'IV', 'IV', 'IV', 'IV', 'IV', 'IV', 'IV', 'IV', 'APWaveform', 'APWaveform', 'APWaveform', 'APWaveform', 'IV', 'APWaveform', 'APWaveform'], 11: ['IDRest', 'IDRest', 'IDRest', 'IDRest', 'IDRest', 'IDRest', 'IDRest', 'IDRest', 'IDRest', 'IDRest', 'IDRest'], 30: ['IV', 'IV', 'IV', 'IV', 'IV', 'IV', 'IV', 'IV', 'IV', 'IV', 'IV', 'APWaveform', 'APWaveform', 'APWaveform', 'APWaveform', 'APWaveform', 'APWaveform'], 31: ['IDRest', 'IDRest', 'IDRest', 'IDRest', 'IDRest', 'IDRest', 'IDRest', 'IDRest', 'IDRest', 'IDRest', 'IDRest']}\n"
     ]
    }
   ],
   "source": [
    "print(cell_dict_100)"
   ]
  },
  {
   "cell_type": "code",
   "execution_count": 18,
   "metadata": {},
   "outputs": [],
   "source": [
    "selected = np.random.randint(0, len(traces), 6)    \n",
    "selected_traces = np.array(traces)[selected]"
   ]
  },
  {
   "cell_type": "code",
   "execution_count": 19,
   "metadata": {},
   "outputs": [
    {
     "name": "stdout",
     "output_type": "stream",
     "text": [
      "[4106 3018 3018 2109 2031 1060]\n"
     ]
    }
   ],
   "source": [
    "print(selected_traces)"
   ]
  },
  {
   "cell_type": "code",
   "execution_count": 4,
   "metadata": {},
   "outputs": [],
   "source": [
    "import pandas as pd\n",
    "import os"
   ]
  },
  {
   "cell_type": "code",
   "execution_count": 15,
   "metadata": {},
   "outputs": [],
   "source": [
    "filenames = os.listdir(data_dir)\n",
    "df = pd.DataFrame()"
   ]
  },
  {
   "cell_type": "code",
   "execution_count": 16,
   "metadata": {},
   "outputs": [],
   "source": [
    "for filename in filenames:\n",
    "    split = filename[:-4].split('_')[1:]\n",
    "    split[1] = int(split[1][2:])\n",
    "    df = df.append(pd.Series(split), ignore_index=True)"
   ]
  },
  {
   "cell_type": "code",
   "execution_count": 18,
   "metadata": {},
   "outputs": [],
   "source": [
    "df.columns = ['mode', 'channel', 'trace']"
   ]
  },
  {
   "cell_type": "code",
   "execution_count": 20,
   "metadata": {},
   "outputs": [
    {
     "data": {
      "text/html": [
       "<div>\n",
       "<style scoped>\n",
       "    .dataframe tbody tr th:only-of-type {\n",
       "        vertical-align: middle;\n",
       "    }\n",
       "\n",
       "    .dataframe tbody tr th {\n",
       "        vertical-align: top;\n",
       "    }\n",
       "\n",
       "    .dataframe thead th {\n",
       "        text-align: right;\n",
       "    }\n",
       "</style>\n",
       "<table border=\"1\" class=\"dataframe\">\n",
       "  <thead>\n",
       "    <tr style=\"text-align: right;\">\n",
       "      <th></th>\n",
       "      <th>mode</th>\n",
       "      <th>channel</th>\n",
       "      <th>trace</th>\n",
       "    </tr>\n",
       "  </thead>\n",
       "  <tbody>\n",
       "    <tr>\n",
       "      <th>0</th>\n",
       "      <td>IV</td>\n",
       "      <td>21.0</td>\n",
       "      <td>3016</td>\n",
       "    </tr>\n",
       "    <tr>\n",
       "      <th>1</th>\n",
       "      <td>IV</td>\n",
       "      <td>20.0</td>\n",
       "      <td>3016</td>\n",
       "    </tr>\n",
       "    <tr>\n",
       "      <th>2</th>\n",
       "      <td>IDRest</td>\n",
       "      <td>20.0</td>\n",
       "      <td>1139</td>\n",
       "    </tr>\n",
       "    <tr>\n",
       "      <th>3</th>\n",
       "      <td>IV</td>\n",
       "      <td>21.0</td>\n",
       "      <td>4023</td>\n",
       "    </tr>\n",
       "    <tr>\n",
       "      <th>4</th>\n",
       "      <td>IDRest</td>\n",
       "      <td>21.0</td>\n",
       "      <td>1139</td>\n",
       "    </tr>\n",
       "    <tr>\n",
       "      <th>5</th>\n",
       "      <td>IV</td>\n",
       "      <td>20.0</td>\n",
       "      <td>4023</td>\n",
       "    </tr>\n",
       "    <tr>\n",
       "      <th>6</th>\n",
       "      <td>IDRest</td>\n",
       "      <td>20.0</td>\n",
       "      <td>4109</td>\n",
       "    </tr>\n",
       "    <tr>\n",
       "      <th>7</th>\n",
       "      <td>IDRest</td>\n",
       "      <td>20.0</td>\n",
       "      <td>3100</td>\n",
       "    </tr>\n",
       "    <tr>\n",
       "      <th>8</th>\n",
       "      <td>IDRest</td>\n",
       "      <td>21.0</td>\n",
       "      <td>4109</td>\n",
       "    </tr>\n",
       "    <tr>\n",
       "      <th>9</th>\n",
       "      <td>IDRest</td>\n",
       "      <td>21.0</td>\n",
       "      <td>3100</td>\n",
       "    </tr>\n",
       "    <tr>\n",
       "      <th>10</th>\n",
       "      <td>IDRest</td>\n",
       "      <td>21.0</td>\n",
       "      <td>4108</td>\n",
       "    </tr>\n",
       "    <tr>\n",
       "      <th>11</th>\n",
       "      <td>IDRest</td>\n",
       "      <td>21.0</td>\n",
       "      <td>3101</td>\n",
       "    </tr>\n",
       "    <tr>\n",
       "      <th>12</th>\n",
       "      <td>IDRest</td>\n",
       "      <td>20.0</td>\n",
       "      <td>4108</td>\n",
       "    </tr>\n",
       "    <tr>\n",
       "      <th>13</th>\n",
       "      <td>IDRest</td>\n",
       "      <td>20.0</td>\n",
       "      <td>3101</td>\n",
       "    </tr>\n",
       "    <tr>\n",
       "      <th>14</th>\n",
       "      <td>APWaveform</td>\n",
       "      <td>21.0</td>\n",
       "      <td>4031</td>\n",
       "    </tr>\n",
       "    <tr>\n",
       "      <th>15</th>\n",
       "      <td>APWaveform</td>\n",
       "      <td>20.0</td>\n",
       "      <td>4031</td>\n",
       "    </tr>\n",
       "    <tr>\n",
       "      <th>16</th>\n",
       "      <td>IDRest</td>\n",
       "      <td>21.0</td>\n",
       "      <td>1138</td>\n",
       "    </tr>\n",
       "    <tr>\n",
       "      <th>17</th>\n",
       "      <td>IV</td>\n",
       "      <td>20.0</td>\n",
       "      <td>4022</td>\n",
       "    </tr>\n",
       "    <tr>\n",
       "      <th>18</th>\n",
       "      <td>IDRest</td>\n",
       "      <td>20.0</td>\n",
       "      <td>1138</td>\n",
       "    </tr>\n",
       "    <tr>\n",
       "      <th>19</th>\n",
       "      <td>IV</td>\n",
       "      <td>21.0</td>\n",
       "      <td>4022</td>\n",
       "    </tr>\n",
       "    <tr>\n",
       "      <th>20</th>\n",
       "      <td>IV</td>\n",
       "      <td>20.0</td>\n",
       "      <td>3017</td>\n",
       "    </tr>\n",
       "    <tr>\n",
       "      <th>21</th>\n",
       "      <td>IV</td>\n",
       "      <td>21.0</td>\n",
       "      <td>3017</td>\n",
       "    </tr>\n",
       "    <tr>\n",
       "      <th>22</th>\n",
       "      <td>IV</td>\n",
       "      <td>20.0</td>\n",
       "      <td>4020</td>\n",
       "    </tr>\n",
       "    <tr>\n",
       "      <th>23</th>\n",
       "      <td>IV</td>\n",
       "      <td>21.0</td>\n",
       "      <td>4020</td>\n",
       "    </tr>\n",
       "    <tr>\n",
       "      <th>24</th>\n",
       "      <td>APWaveform</td>\n",
       "      <td>21.0</td>\n",
       "      <td>4033</td>\n",
       "    </tr>\n",
       "    <tr>\n",
       "      <th>25</th>\n",
       "      <td>APWaveform</td>\n",
       "      <td>20.0</td>\n",
       "      <td>4033</td>\n",
       "    </tr>\n",
       "    <tr>\n",
       "      <th>26</th>\n",
       "      <td>IDRest</td>\n",
       "      <td>21.0</td>\n",
       "      <td>3103</td>\n",
       "    </tr>\n",
       "    <tr>\n",
       "      <th>27</th>\n",
       "      <td>IDRest</td>\n",
       "      <td>20.0</td>\n",
       "      <td>3103</td>\n",
       "    </tr>\n",
       "    <tr>\n",
       "      <th>28</th>\n",
       "      <td>IDRest</td>\n",
       "      <td>20.0</td>\n",
       "      <td>3102</td>\n",
       "    </tr>\n",
       "    <tr>\n",
       "      <th>29</th>\n",
       "      <td>IDRest</td>\n",
       "      <td>21.0</td>\n",
       "      <td>3102</td>\n",
       "    </tr>\n",
       "    <tr>\n",
       "      <th>...</th>\n",
       "      <td>...</td>\n",
       "      <td>...</td>\n",
       "      <td>...</td>\n",
       "    </tr>\n",
       "    <tr>\n",
       "      <th>194</th>\n",
       "      <td>IDRest</td>\n",
       "      <td>21.0</td>\n",
       "      <td>1136</td>\n",
       "    </tr>\n",
       "    <tr>\n",
       "      <th>195</th>\n",
       "      <td>IV</td>\n",
       "      <td>20.0</td>\n",
       "      <td>3025</td>\n",
       "    </tr>\n",
       "    <tr>\n",
       "      <th>196</th>\n",
       "      <td>IDRest</td>\n",
       "      <td>21.0</td>\n",
       "      <td>4112</td>\n",
       "    </tr>\n",
       "    <tr>\n",
       "      <th>197</th>\n",
       "      <td>IDRest</td>\n",
       "      <td>20.0</td>\n",
       "      <td>4106</td>\n",
       "    </tr>\n",
       "    <tr>\n",
       "      <th>198</th>\n",
       "      <td>IDRest</td>\n",
       "      <td>20.0</td>\n",
       "      <td>4112</td>\n",
       "    </tr>\n",
       "    <tr>\n",
       "      <th>199</th>\n",
       "      <td>IDRest</td>\n",
       "      <td>21.0</td>\n",
       "      <td>4106</td>\n",
       "    </tr>\n",
       "    <tr>\n",
       "      <th>200</th>\n",
       "      <td>IDRest</td>\n",
       "      <td>20.0</td>\n",
       "      <td>4113</td>\n",
       "    </tr>\n",
       "    <tr>\n",
       "      <th>201</th>\n",
       "      <td>IDRest</td>\n",
       "      <td>21.0</td>\n",
       "      <td>4107</td>\n",
       "    </tr>\n",
       "    <tr>\n",
       "      <th>202</th>\n",
       "      <td>IDRest</td>\n",
       "      <td>21.0</td>\n",
       "      <td>4113</td>\n",
       "    </tr>\n",
       "    <tr>\n",
       "      <th>203</th>\n",
       "      <td>IDRest</td>\n",
       "      <td>20.0</td>\n",
       "      <td>4107</td>\n",
       "    </tr>\n",
       "    <tr>\n",
       "      <th>204</th>\n",
       "      <td>IV</td>\n",
       "      <td>20.0</td>\n",
       "      <td>3024</td>\n",
       "    </tr>\n",
       "    <tr>\n",
       "      <th>205</th>\n",
       "      <td>IDRest</td>\n",
       "      <td>21.0</td>\n",
       "      <td>1137</td>\n",
       "    </tr>\n",
       "    <tr>\n",
       "      <th>206</th>\n",
       "      <td>IV</td>\n",
       "      <td>21.0</td>\n",
       "      <td>3024</td>\n",
       "    </tr>\n",
       "    <tr>\n",
       "      <th>207</th>\n",
       "      <td>IDRest</td>\n",
       "      <td>20.0</td>\n",
       "      <td>1137</td>\n",
       "    </tr>\n",
       "    <tr>\n",
       "      <th>208</th>\n",
       "      <td>IV</td>\n",
       "      <td>20.0</td>\n",
       "      <td>3018</td>\n",
       "    </tr>\n",
       "    <tr>\n",
       "      <th>209</th>\n",
       "      <td>IV</td>\n",
       "      <td>21.0</td>\n",
       "      <td>3018</td>\n",
       "    </tr>\n",
       "    <tr>\n",
       "      <th>210</th>\n",
       "      <td>IDRest</td>\n",
       "      <td>21.0</td>\n",
       "      <td>1135</td>\n",
       "    </tr>\n",
       "    <tr>\n",
       "      <th>211</th>\n",
       "      <td>IV</td>\n",
       "      <td>20.0</td>\n",
       "      <td>3026</td>\n",
       "    </tr>\n",
       "    <tr>\n",
       "      <th>212</th>\n",
       "      <td>IDRest</td>\n",
       "      <td>20.0</td>\n",
       "      <td>1135</td>\n",
       "    </tr>\n",
       "    <tr>\n",
       "      <th>213</th>\n",
       "      <td>IV</td>\n",
       "      <td>21.0</td>\n",
       "      <td>3026</td>\n",
       "    </tr>\n",
       "    <tr>\n",
       "      <th>214</th>\n",
       "      <td>IDRest</td>\n",
       "      <td>21.0</td>\n",
       "      <td>4105</td>\n",
       "    </tr>\n",
       "    <tr>\n",
       "      <th>215</th>\n",
       "      <td>IDRest</td>\n",
       "      <td>20.0</td>\n",
       "      <td>4111</td>\n",
       "    </tr>\n",
       "    <tr>\n",
       "      <th>216</th>\n",
       "      <td>IDRest</td>\n",
       "      <td>20.0</td>\n",
       "      <td>4105</td>\n",
       "    </tr>\n",
       "    <tr>\n",
       "      <th>217</th>\n",
       "      <td>IDRest</td>\n",
       "      <td>21.0</td>\n",
       "      <td>4111</td>\n",
       "    </tr>\n",
       "    <tr>\n",
       "      <th>218</th>\n",
       "      <td>IDRest</td>\n",
       "      <td>20.0</td>\n",
       "      <td>4104</td>\n",
       "    </tr>\n",
       "    <tr>\n",
       "      <th>219</th>\n",
       "      <td>IDRest</td>\n",
       "      <td>21.0</td>\n",
       "      <td>4110</td>\n",
       "    </tr>\n",
       "    <tr>\n",
       "      <th>220</th>\n",
       "      <td>IDRest</td>\n",
       "      <td>21.0</td>\n",
       "      <td>4104</td>\n",
       "    </tr>\n",
       "    <tr>\n",
       "      <th>221</th>\n",
       "      <td>IDRest</td>\n",
       "      <td>20.0</td>\n",
       "      <td>4110</td>\n",
       "    </tr>\n",
       "    <tr>\n",
       "      <th>222</th>\n",
       "      <td>IDRest</td>\n",
       "      <td>20.0</td>\n",
       "      <td>1134</td>\n",
       "    </tr>\n",
       "    <tr>\n",
       "      <th>223</th>\n",
       "      <td>IDRest</td>\n",
       "      <td>21.0</td>\n",
       "      <td>1134</td>\n",
       "    </tr>\n",
       "  </tbody>\n",
       "</table>\n",
       "<p>224 rows × 3 columns</p>\n",
       "</div>"
      ],
      "text/plain": [
       "           mode  channel trace\n",
       "0            IV     21.0  3016\n",
       "1            IV     20.0  3016\n",
       "2        IDRest     20.0  1139\n",
       "3            IV     21.0  4023\n",
       "4        IDRest     21.0  1139\n",
       "5            IV     20.0  4023\n",
       "6        IDRest     20.0  4109\n",
       "7        IDRest     20.0  3100\n",
       "8        IDRest     21.0  4109\n",
       "9        IDRest     21.0  3100\n",
       "10       IDRest     21.0  4108\n",
       "11       IDRest     21.0  3101\n",
       "12       IDRest     20.0  4108\n",
       "13       IDRest     20.0  3101\n",
       "14   APWaveform     21.0  4031\n",
       "15   APWaveform     20.0  4031\n",
       "16       IDRest     21.0  1138\n",
       "17           IV     20.0  4022\n",
       "18       IDRest     20.0  1138\n",
       "19           IV     21.0  4022\n",
       "20           IV     20.0  3017\n",
       "21           IV     21.0  3017\n",
       "22           IV     20.0  4020\n",
       "23           IV     21.0  4020\n",
       "24   APWaveform     21.0  4033\n",
       "25   APWaveform     20.0  4033\n",
       "26       IDRest     21.0  3103\n",
       "27       IDRest     20.0  3103\n",
       "28       IDRest     20.0  3102\n",
       "29       IDRest     21.0  3102\n",
       "..          ...      ...   ...\n",
       "194      IDRest     21.0  1136\n",
       "195          IV     20.0  3025\n",
       "196      IDRest     21.0  4112\n",
       "197      IDRest     20.0  4106\n",
       "198      IDRest     20.0  4112\n",
       "199      IDRest     21.0  4106\n",
       "200      IDRest     20.0  4113\n",
       "201      IDRest     21.0  4107\n",
       "202      IDRest     21.0  4113\n",
       "203      IDRest     20.0  4107\n",
       "204          IV     20.0  3024\n",
       "205      IDRest     21.0  1137\n",
       "206          IV     21.0  3024\n",
       "207      IDRest     20.0  1137\n",
       "208          IV     20.0  3018\n",
       "209          IV     21.0  3018\n",
       "210      IDRest     21.0  1135\n",
       "211          IV     20.0  3026\n",
       "212      IDRest     20.0  1135\n",
       "213          IV     21.0  3026\n",
       "214      IDRest     21.0  4105\n",
       "215      IDRest     20.0  4111\n",
       "216      IDRest     20.0  4105\n",
       "217      IDRest     21.0  4111\n",
       "218      IDRest     20.0  4104\n",
       "219      IDRest     21.0  4110\n",
       "220      IDRest     21.0  4104\n",
       "221      IDRest     20.0  4110\n",
       "222      IDRest     20.0  1134\n",
       "223      IDRest     21.0  1134\n",
       "\n",
       "[224 rows x 3 columns]"
      ]
     },
     "execution_count": 20,
     "metadata": {},
     "output_type": "execute_result"
    }
   ],
   "source": [
    "df"
   ]
  },
  {
   "cell_type": "markdown",
   "metadata": {},
   "source": [
    "___\n",
    "### Traces description\n",
    "\n",
    "* All the recordings you see above represent different **stimuli** (e.g. \"APWaveform\", \"IDRest\", \"IV\"). \n",
    "* Each stimulus comprises different **sweeps** (e.g. \"APWaveform*46-51\"), of increasing/decreasing amplitudes.\n",
    "* Each stimulus is repeated multiple times (e.g. APWaveform 46-51, 1042-1047, 2042-2047, 3042-3047 ). In this example above we have four **repetitions** of each stimulus.\n",
    "\n",
    "Any individual recording has a trace number (e.g. \"_1046\"). Note that we have pairs of recordings with the same trace number (e.g. \"exp_APWaveform_ch7_51.dat\" and \"exp_APWaveform_ch6_51.dat\"). One of them contains the current stimulus (in this case \"*ch7*\") and the other the voltage response (in this case \"*ch6*\").\n",
    "___"
   ]
  },
  {
   "cell_type": "markdown",
   "metadata": {},
   "source": [
    "**TODO** With the code below we select traces based on trace number and store them in Python dictionaries. Last week we chose three stimuli and three repetitions. You are free to choose less stimuli, if you think that the firing of your neuron can be well described with a smaller stimuli subset. However, you should choose more than one repetition, as we've seen that the same cell may respond a bit differently although the stimulus is the same.\n",
    "\n",
    "If you choose different stimuli, look carefully at the code below the \"TODO\", to have the appropriate number of entries and names in the \"steps_v_dict\" and \"stepv_i_dict\"."
   ]
  },
  {
   "cell_type": "code",
   "execution_count": 20,
   "metadata": {
    "scrolled": false
   },
   "outputs": [],
   "source": [
    "# TODO modify the line below to write the trace numbers of your choice in the list \"selected traces\"\n",
    "#selected_traces = [1047, 2047, 3047, 1049, 2049, 3049, 1041, 2041, 3041]\n",
    "\n",
    "# Store voltage data in a dictionary step_name : [list of repetitions]\n",
    "steps_v_dict = collections.OrderedDict({'LongStepNeg': [], 'ShortStepPos': [], 'LongStepPos': []})\n",
    "\n",
    "# Store current data in a dictionary step_name : [list of repetitions]\n",
    "steps_i_dict = collections.OrderedDict({'LongStepNeg': [], 'ShortStepPos': [], 'LongStepPos': []})\n",
    "\n",
    "data_dir = 'data/week7/dataLayer5TuftedPyramidal/'\n",
    "\n",
    "filenames = os.listdir(data_dir)\n",
    "\n",
    "for file_name in filenames:\n",
    "    # Get channel and trace number from the file_name\n",
    "    channel = int(file_name[:-4].split('_')[2][2:])\n",
    "    tracenum = int(file_name[:-4].split('_')[-1])\n",
    "    path_to_file = data_dir + file_name\n",
    "    \n",
    "    # Even channel numbers are voltage traces in this case\n",
    "    if channel % 2 == 0:\n",
    "        if \"APWaveform\" in file_name and tracenum in selected_traces:\n",
    "            steps_v_dict['ShortStepPos'].append(numpy.fromfile(path_to_file))\n",
    "        if \"IDRest\" in file_name and tracenum in selected_traces:\n",
    "            steps_v_dict['LongStepPos'].append(numpy.fromfile(path_to_file))\n",
    "        if \"IV\" in file_name and tracenum in selected_traces:\n",
    "            steps_v_dict['LongStepNeg'].append(numpy.fromfile(path_to_file))\n",
    "            \n",
    "    # Odd channel numbers are voltage traces in this case        \n",
    "    elif channel % 2 == 1:\n",
    "        if \"APWaveform\" in file_name and tracenum in selected_traces:\n",
    "            steps_i_dict['ShortStepPos'].append(numpy.fromfile(path_to_file))\n",
    "        if \"IDRest\" in file_name and tracenum in selected_traces:\n",
    "            steps_i_dict['LongStepPos'].append(numpy.fromfile(path_to_file))\n",
    "        if \"IV\" in file_name and tracenum in selected_traces:\n",
    "            steps_i_dict['LongStepNeg'].append(numpy.fromfile(path_to_file))\n",
    "  \n"
   ]
  },
  {
   "cell_type": "markdown",
   "metadata": {},
   "source": [
    "**TODO** We can now plot these traces."
   ]
  },
  {
   "cell_type": "code",
   "execution_count": 29,
   "metadata": {
    "scrolled": false
   },
   "outputs": [
    {
     "data": {
      "image/png": "[encoded data removed]",
      "text/plain": [
       "<Figure size 1440x1080 with 3 Axes>"
      ]
     },
     "metadata": {},
     "output_type": "display_data"
    }
   ],
   "source": [
    "# TODO: if you run this cell, without any modification, you should see the traces. \n",
    "# Each subpart of the figure shows the repetitions of one stimulus\n",
    "\n",
    "# Initialize a figure\n",
    "fig1, axes = plt.subplots(len(steps_v_dict), sharey = True, figsize=(20,15))\n",
    "\n",
    "# Plot the voltage traces\n",
    "for idx, step_name in enumerate(steps_v_dict.keys()):\n",
    "    for rep, trace in enumerate(steps_v_dict[step_name]):\n",
    "        data = trace.reshape(len(trace)/2,2)\n",
    "        axes[idx].plot(data[:,0],data[:,1], label = 'Rep. ' + str(rep+1))\n",
    "        axes[idx].set_ylabel('Voltage (mV)')\n",
    "        axes[idx].legend(loc = 'best')\n",
    "        axes[idx].set_title(step_name)\n",
    "    axes[-1].set_xlabel('Time (ms)')"
   ]
  },
  {
   "cell_type": "markdown",
   "metadata": {},
   "source": [
    "# 2. Electrophysiological features\n",
    "To build a detailed neuron model, we need to quantify the electrical behavior we want to reproduce. The metrics we use are the eFeatures, that measure parameters describing for instance the shape of the action potential or the firing rate of a neuron.\n",
    "\n",
    "The eFeatures extracted from the data and later from the model will be used to compare the model's responses with the experimental data. The mean features values, along with the standard deviations will be stored in a .json file.\n",
    "\n",
    "**TODO** You will define the information on the stimulus start and end times, along with the eFeatures you want to extract. Look at [here](http://bluebrain.github.io/eFEL/eFeatures.html) to have an idea on the eFeatures that you can extract or use the function \"efel.getFeatureNames()\""
   ]
  },
  {
   "cell_type": "code",
   "execution_count": 32,
   "metadata": {},
   "outputs": [
    {
     "data": {
      "text/plain": [
       "['AHP1_depth_from_peak',\n",
       " 'AHP2_depth_from_peak',\n",
       " 'AHP_depth',\n",
       " 'AHP_depth_abs',\n",
       " 'AHP_depth_abs_slow',\n",
       " 'AHP_depth_diff',\n",
       " 'AHP_depth_from_peak',\n",
       " 'AHP_slow_time',\n",
       " 'AHP_time_from_peak',\n",
       " 'AP1_amp',\n",
       " 'AP1_begin_voltage',\n",
       " 'AP1_begin_width',\n",
       " 'AP1_peak',\n",
       " 'AP1_width',\n",
       " 'AP2_AP1_begin_width_diff',\n",
       " 'AP2_AP1_diff',\n",
       " 'AP2_AP1_peak_diff',\n",
       " 'AP2_amp',\n",
       " 'AP2_begin_voltage',\n",
       " 'AP2_begin_width',\n",
       " 'AP2_peak',\n",
       " 'AP2_width',\n",
       " 'AP_amplitude',\n",
       " 'AP_amplitude_change',\n",
       " 'AP_amplitude_diff',\n",
       " 'AP_amplitude_from_voltagebase',\n",
       " 'AP_begin_indices',\n",
       " 'AP_begin_time',\n",
       " 'AP_begin_voltage',\n",
       " 'AP_begin_width',\n",
       " 'AP_duration',\n",
       " 'AP_duration_change',\n",
       " 'AP_duration_half_width',\n",
       " 'AP_duration_half_width_change',\n",
       " 'AP_end_indices',\n",
       " 'AP_fall_indices',\n",
       " 'AP_fall_rate',\n",
       " 'AP_fall_rate_change',\n",
       " 'AP_fall_time',\n",
       " 'AP_height',\n",
       " 'AP_phaseslope',\n",
       " 'AP_phaseslope_AIS',\n",
       " 'AP_rise_indices',\n",
       " 'AP_rise_rate',\n",
       " 'AP_rise_rate_change',\n",
       " 'AP_rise_time',\n",
       " 'AP_width',\n",
       " 'APlast_amp',\n",
       " 'APlast_width',\n",
       " 'BAC_maximum_voltage',\n",
       " 'BAC_width',\n",
       " 'BPAPAmplitudeLoc1',\n",
       " 'BPAPAmplitudeLoc2',\n",
       " 'BPAPHeightLoc1',\n",
       " 'BPAPHeightLoc2',\n",
       " 'BPAPatt2',\n",
       " 'BPAPatt3',\n",
       " 'E10',\n",
       " 'E11',\n",
       " 'E12',\n",
       " 'E13',\n",
       " 'E14',\n",
       " 'E15',\n",
       " 'E16',\n",
       " 'E17',\n",
       " 'E18',\n",
       " 'E19',\n",
       " 'E2',\n",
       " 'E20',\n",
       " 'E21',\n",
       " 'E22',\n",
       " 'E23',\n",
       " 'E24',\n",
       " 'E25',\n",
       " 'E26',\n",
       " 'E27',\n",
       " 'E3',\n",
       " 'E39',\n",
       " 'E39_cod',\n",
       " 'E4',\n",
       " 'E40',\n",
       " 'E5',\n",
       " 'E6',\n",
       " 'E7',\n",
       " 'E8',\n",
       " 'E9',\n",
       " 'ISI_CV',\n",
       " 'ISI_log_slope',\n",
       " 'ISI_log_slope_skip',\n",
       " 'ISI_semilog_slope',\n",
       " 'ISI_values',\n",
       " 'Spikecount',\n",
       " 'Spikecount_stimint',\n",
       " 'adaptation_index',\n",
       " 'adaptation_index2',\n",
       " 'all_ISI_values',\n",
       " 'amp_drop_first_last',\n",
       " 'amp_drop_first_second',\n",
       " 'amp_drop_second_last',\n",
       " 'burst_ISI_indices',\n",
       " 'burst_mean_freq',\n",
       " 'burst_number',\n",
       " 'check_AISInitiation',\n",
       " 'decay_time_constant_after_stim',\n",
       " 'depolarized_base',\n",
       " 'doublet_ISI',\n",
       " 'fast_AHP',\n",
       " 'fast_AHP_change',\n",
       " 'interburst_voltage',\n",
       " 'inv_fifth_ISI',\n",
       " 'inv_first_ISI',\n",
       " 'inv_fourth_ISI',\n",
       " 'inv_last_ISI',\n",
       " 'inv_second_ISI',\n",
       " 'inv_third_ISI',\n",
       " 'inv_time_to_first_spike',\n",
       " 'irregularity_index',\n",
       " 'is_not_stuck',\n",
       " 'max_amp_difference',\n",
       " 'maximum_voltage',\n",
       " 'maximum_voltage_from_voltagebase',\n",
       " 'mean_AP_amplitude',\n",
       " 'mean_frequency',\n",
       " 'min_AHP_indices',\n",
       " 'min_AHP_values',\n",
       " 'min_voltage_between_spikes',\n",
       " 'minimum_voltage',\n",
       " 'number_initial_spikes',\n",
       " 'ohmic_input_resistance',\n",
       " 'ohmic_input_resistance_vb_ssse',\n",
       " 'peak_indices',\n",
       " 'peak_time',\n",
       " 'peak_voltage',\n",
       " 'sag_amplitude',\n",
       " 'sag_ratio1',\n",
       " 'sag_ratio2',\n",
       " 'single_burst_ratio',\n",
       " 'spike_half_width',\n",
       " 'spike_width2',\n",
       " 'steady_state_hyper',\n",
       " 'steady_state_voltage',\n",
       " 'steady_state_voltage_stimend',\n",
       " 'time',\n",
       " 'time_constant',\n",
       " 'time_to_first_spike',\n",
       " 'time_to_last_spike',\n",
       " 'time_to_second_spike',\n",
       " 'trace_check',\n",
       " 'voltage',\n",
       " 'voltage_after_stim',\n",
       " 'voltage_base',\n",
       " 'voltage_deflection',\n",
       " 'voltage_deflection_begin',\n",
       " 'voltage_deflection_vb_ssse']"
      ]
     },
     "execution_count": 32,
     "metadata": {},
     "output_type": "execute_result"
    }
   ],
   "source": [
    "efel.getFeatureNames()"
   ]
  },
  {
   "cell_type": "code",
   "execution_count": 37,
   "metadata": {},
   "outputs": [],
   "source": [
    "# Extract features\n",
    "import efel\n",
    "\n",
    "# TODO: Look at the plots above to find the stimulus start and end time for each stimulus (in ms),\n",
    "# Replace \"0\" and \"10000' with stimulus start and end times\n",
    "steps_info = {'LongStepNeg': [0, 10000], 'ShortStepPos': [0, 10000], 'LongStepPos': [0, 10000]}\n",
    "\n",
    "# TODO: write here the feature names of your choice, for each stimulus you've chosen\n",
    "LongStepNeg_feat = ['voltage_base', 'ISI_CV', ]\n",
    "LongStepPos_feat = ['AP_amplitude']\n",
    "ShortStepPos_feat = ['AHP_depth_abs']\n",
    "\n",
    "# Prepare the traces for eFEL\n",
    "def get_features(data):\n",
    "    # All the traces converted in eFEL format\n",
    "    efel_traces = {'LongStepNeg': [], 'ShortStepPos': [], 'LongStepPos': []}\n",
    "    for step_name, step_traces in data.items():\n",
    "        for rep in step_traces:            \n",
    "            data = rep.reshape(len(rep)/2,2)\n",
    "            # A single eFEL trace \n",
    "            trace = {}\n",
    "            trace['T'] = data[:,0]\n",
    "            trace['V'] = data[:,1] \n",
    "            trace['stim_start'] = [steps_info[step_name][0]]\n",
    "            trace['stim_end'] = [steps_info[step_name][1]]\n",
    "            trace['name'] = step_name\n",
    "            \n",
    "            efel_traces[step_name].append(trace)\n",
    "    \n",
    "    features_values = collections.defaultdict(dict)       \n",
    "    \n",
    "    features_values['LongStepNeg'] = efel.getMeanFeatureValues(efel_traces['LongStepNeg'], LongStepNeg_feat)\n",
    "    \n",
    "    features_values['LongStepPos'] = efel.getMeanFeatureValues(efel_traces['LongStepPos'], LongStepPos_feat)\n",
    "    \n",
    "    features_values['ShortStepPos'] = efel.getMeanFeatureValues(efel_traces['ShortStepPos'], ShortStepPos_feat)    \n",
    "\n",
    "    return features_values\n",
    "\n",
    "#efel.getFeatureNames()"
   ]
  },
  {
   "cell_type": "markdown",
   "metadata": {},
   "source": [
    "**TODO** We can now visualise the feature values we computed, each row in the table corresponds to a repetition of the same step."
   ]
  },
  {
   "cell_type": "code",
   "execution_count": 38,
   "metadata": {},
   "outputs": [
    {
     "name": "stderr",
     "output_type": "stream",
     "text": [
      "/Users/utanashati/miniconda3/envs/silico/lib/python2.7/site-packages/efel/api.py:379: RuntimeWarning: Error while calculating feature ISI_CV: \n",
      "Voltage never goes below or above threshold in spike detection.\n",
      "\n",
      " Three spikes required for calculation of ISI_values.\n",
      "\n",
      "Feature [ISI_values] is missing\n",
      "\n",
      "  RuntimeWarning)\n"
     ]
    },
    {
     "data": {
      "text/html": [
       "<table border=\"1\"><tr><th>LongStepPos</th><td><table border=\"1\"><tr><th>AP_amplitude</th></tr><tr><td>68.53935121677681</td></tr><tr><td>None</td></tr></table></td></tr><tr><th>ShortStepPos</th><td><table border=\"1\"><tr><th>AHP_depth_abs</th></tr><tr><td>None</td></tr><tr><td>None</td></tr></table></td></tr><tr><th>LongStepNeg</th><td><table border=\"1\"><tr><th>ISI_CV</th><th>voltage_base</th></tr><tr><td>None</td><td>None</td></tr></table></td></tr></table>"
      ],
      "text/plain": [
       "<IPython.core.display.HTML object>"
      ]
     },
     "execution_count": 38,
     "metadata": {},
     "output_type": "execute_result"
    }
   ],
   "source": [
    "# TODO: run the code below to visualize the features extracted from each repetition, each stimulus. \n",
    "# Do these values make sense?\n",
    "\n",
    "efel_features = dict(get_features(steps_v_dict))\n",
    "IPython.display.HTML(json2html.convert(json=efel_features))"
   ]
  },
  {
   "cell_type": "markdown",
   "metadata": {},
   "source": [
    "We compute features mean and standard deviation."
   ]
  },
  {
   "cell_type": "code",
   "execution_count": null,
   "metadata": {},
   "outputs": [],
   "source": [
    "#TODO: run the code below to compute the mean and standard deviations from the repetitions of each stimulus\n",
    "\n",
    "features_dict = collections.OrderedDict()\n",
    "for step_name, reps in efel_features.items():\n",
    "    feature_values = collections.defaultdict(list)\n",
    "    for rep in reps: \n",
    "        for feature_name, value in rep.iteritems():\n",
    "            feature_values[feature_name].append(value)\n",
    "   \n",
    "    features_dict[step_name] = {\"soma\":{}}\n",
    "    for name, values in feature_values.items():\n",
    "        features_dict[step_name][\"soma\"][name] = [numpy.mean(values), numpy.std(values)]\n",
    "        \n",
    "IPython.display.HTML(json2html.convert(json=dict(features_dict)))"
   ]
  },
  {
   "cell_type": "markdown",
   "metadata": {},
   "source": [
    "We write the eFeatures in a .json file that we will use later in the exercise."
   ]
  },
  {
   "cell_type": "code",
   "execution_count": null,
   "metadata": {},
   "outputs": [],
   "source": [
    "# TODO: run the code below to save the efeatures in a .json file. You can also open it with a text editor and compare\n",
    "# with the same file we obtained last week.\n",
    "with open('features.json', 'w') as fp:\n",
    "    json.dump(features_dict, fp, indent = 4)"
   ]
  },
  {
   "cell_type": "code",
   "execution_count": null,
   "metadata": {},
   "outputs": [],
   "source": [
    "# Let's see if we had created the file in the working directory of the collab virtual machine.\n",
    "! ls"
   ]
  },
  {
   "cell_type": "code",
   "execution_count": null,
   "metadata": {},
   "outputs": [],
   "source": [
    "# Execute the lines below\n",
    "# This will save the files in the storage\n",
    "clients = get_hbp_service_client()\n",
    "collab_path = get_collab_storage_path()\n",
    "clients.storage.upload_file('features.json', data_dir + '/features.json', 'application/JSON')"
   ]
  },
  {
   "cell_type": "markdown",
   "metadata": {},
   "source": [
    "__TODO__ Compute all the possible eFeatures for the different traces during the different protocols.\n",
    "Why is it possible to comute some of them and not others?\n",
    "\n",
    "Hint: You can create a table or a bitmap to explain the solution in your project.\n"
   ]
  },
  {
   "cell_type": "markdown",
   "metadata": {
    "collapsed": true
   },
   "source": [
    "## 3. Write out the stimulation protocols"
   ]
  },
  {
   "cell_type": "markdown",
   "metadata": {},
   "source": [
    "Now it's time to process the current stimuli that were used to record the voltage responses seen above.\n",
    "\n",
    "We will estimate the stimuli amplitude from the trace and save them in a file \"protocols.json\". They will be used later on in the project to stimulate your neuron model.\n",
    "\n",
    "**TODO** Plot the current traces"
   ]
  },
  {
   "cell_type": "code",
   "execution_count": null,
   "metadata": {},
   "outputs": [],
   "source": [
    "# TODO: run this cell to visualize the current stimuli. The graph should appear similar \n",
    "# to the one with the voltage responses (multiple repetitions grouped by stimulus name)\n",
    "\n",
    "# Plot the current traces\n",
    "# Initialize a figure\n",
    "fig1, axes = plt.subplots(len(steps_i_dict), sharey = True, figsize=(20,15))\n",
    "\n",
    "for idx, step_name in enumerate(steps_i_dict.keys()):\n",
    "    for rep, trace in enumerate(steps_i_dict[step_name]):\n",
    "        data = trace.reshape(len(trace)/2,2)\n",
    "        axes[idx].plot(data[:,0],data[:,1], label = 'Rep. ' + str(rep+1))\n",
    "        axes[idx].set_ylabel('Current (nA)')\n",
    "        axes[idx].legend(loc = 'best')\n",
    "        axes[idx].set_title(step_name)\n",
    "    axes[-1].set_xlabel('Time (ms)')"
   ]
  },
  {
   "cell_type": "markdown",
   "metadata": {},
   "source": [
    "**TODO** copy the \"steps_info\" dictionary."
   ]
  },
  {
   "cell_type": "code",
   "execution_count": null,
   "metadata": {},
   "outputs": [],
   "source": [
    "protocols_dict = collections.OrderedDict()\n",
    "\n",
    "# TODO: Replace the line below to copy the \"steps_info\" dictionary. \n",
    "# We will use the stimuli start and end to write the current protocol to simulate the response in our neuron\n",
    "steps_info = {'LongStepNeg': [0, 10000], 'ShortStepPos': [0, 10000], 'LongStepPos': [0, 10000]}\n",
    "\n",
    "# Stimuli holding current and step current amplitudes in nA\n",
    "amps_info = collections.defaultdict(list)\n",
    "for step_name in steps_i_dict.keys():\n",
    "    \n",
    "    iholds = []\n",
    "    isteps = []\n",
    "    for trace in steps_i_dict[step_name]:\n",
    "        data = trace.reshape(len(trace)/2,2)\n",
    "        tot_duration = steps_info[step_name][1]+steps_info[step_name][0]\n",
    "   \n",
    "        dt = float(tot_duration)/len(data)\n",
    "        ihold = numpy.mean(data[:,1][0:int(steps_info[step_name][0]/dt)])\n",
    "\n",
    "        istep = numpy.mean(data[:,1][int(steps_info[step_name][0]/dt):int(steps_info[step_name][1]/dt)])-ihold\n",
    "        iholds.append(ihold)\n",
    "        isteps.append(istep)\n",
    "       \n",
    "    amps_info[step_name].append(round(numpy.mean(isteps), 4))\n",
    "    amps_info[step_name].append(round(numpy.mean(iholds), 4)) \n",
    "    \n",
    "#amps_info  = {'LongStepNeg': [-0.01, 0.05], 'ShortStepPos': [0.18,0.05],'LongStepPos': [0.15 ,0.05]}\n",
    "\n",
    "for step_name, reps in efel_features.items():   \n",
    "    protocols_dict[step_name] = {\"stimuli\":[]}\n",
    "    protocols_dict[step_name][\"stimuli\"].append({\"delay\":steps_info[step_name][0],\n",
    "                                               \"amp\":amps_info[step_name][0],\n",
    "                                               \"duration\":steps_info[step_name][1]-steps_info[step_name][0],\n",
    "                                               \"totduration\":steps_info[step_name][1]+steps_info[step_name][0]})\n",
    "    protocols_dict[step_name][\"stimuli\"].append({\"delay\":0,\n",
    "                                               \"amp\":amps_info[step_name][1],\n",
    "                                               \"duration\":steps_info[step_name][1]+steps_info[step_name][0],\n",
    "                                               \"totduration\":steps_info[step_name][1]+steps_info[step_name][0]})\n",
    " "
   ]
  },
  {
   "cell_type": "code",
   "execution_count": null,
   "metadata": {},
   "outputs": [],
   "source": [
    "# TODO: run the line below to visualize the protocols that we have computed. \n",
    "# For each stimulus you should have two lines, representing the step current parameters and the holding current parameters\n",
    "IPython.display.HTML(json2html.convert(json=dict(protocols_dict)))"
   ]
  },
  {
   "cell_type": "code",
   "execution_count": null,
   "metadata": {},
   "outputs": [],
   "source": [
    "# TODO: save the protocols in the \"protocols.json\" information\n",
    "# Save the protocols in a .json file\n",
    "with open('protocols.json', 'w') as fp:\n",
    "    json.dump(protocols_dict, fp, indent = 4)"
   ]
  },
  {
   "cell_type": "code",
   "execution_count": null,
   "metadata": {},
   "outputs": [],
   "source": [
    "# Execute the lines below\n",
    "# This will save the file in the storage\n",
    "clients = get_hbp_service_client()\n",
    "collab_path = get_collab_storage_path()\n",
    "clients.storage.upload_file('protocols.json', data_dir + '/protocols.json', 'application/JSON')"
   ]
  }
 ],
 "metadata": {
  "kernelspec": {
   "display_name": "Python 2",
   "language": "python",
   "name": "python2"
  },
  "language_info": {
   "codemirror_mode": {
    "name": "ipython",
    "version": 2
   },
   "file_extension": ".py",
   "mimetype": "text/x-python",
   "name": "python",
   "nbconvert_exporter": "python",
   "pygments_lexer": "ipython2",
   "version": "2.7.14"
  }
 },
 "nbformat": 4,
 "nbformat_minor": 1
}
